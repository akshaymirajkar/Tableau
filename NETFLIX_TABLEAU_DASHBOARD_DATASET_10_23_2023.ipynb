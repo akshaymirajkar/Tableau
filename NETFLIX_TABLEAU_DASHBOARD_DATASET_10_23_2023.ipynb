{
 "cells": [
  {
   "cell_type": "code",
   "execution_count": 1,
   "id": "4abec22d",
   "metadata": {},
   "outputs": [],
   "source": [
    "import pandas as pd\n",
    "import numpy as np"
   ]
  },
  {
   "cell_type": "code",
   "execution_count": 2,
   "id": "f65f720a",
   "metadata": {},
   "outputs": [],
   "source": [
    "df = pd.read_csv(('netflix_titles.csv'))"
   ]
  },
  {
   "cell_type": "code",
   "execution_count": 3,
   "id": "fc6036ff",
   "metadata": {},
   "outputs": [
    {
     "name": "stdout",
     "output_type": "stream",
     "text": [
      "<class 'pandas.core.frame.DataFrame'>\n",
      "RangeIndex: 8807 entries, 0 to 8806\n",
      "Data columns (total 12 columns):\n",
      " #   Column        Non-Null Count  Dtype \n",
      "---  ------        --------------  ----- \n",
      " 0   show_id       8807 non-null   object\n",
      " 1   type          8807 non-null   object\n",
      " 2   title         8807 non-null   object\n",
      " 3   director      6173 non-null   object\n",
      " 4   cast          7982 non-null   object\n",
      " 5   country       7976 non-null   object\n",
      " 6   date_added    8797 non-null   object\n",
      " 7   release_year  8807 non-null   int64 \n",
      " 8   rating        8803 non-null   object\n",
      " 9   duration      8804 non-null   object\n",
      " 10  listed_in     8807 non-null   object\n",
      " 11  description   8807 non-null   object\n",
      "dtypes: int64(1), object(11)\n",
      "memory usage: 825.8+ KB\n"
     ]
    }
   ],
   "source": [
    "df.info()"
   ]
  },
  {
   "cell_type": "code",
   "execution_count": 4,
   "id": "6751bf5f",
   "metadata": {},
   "outputs": [
    {
     "data": {
      "text/plain": [
       "(8807, 12)"
      ]
     },
     "execution_count": 4,
     "metadata": {},
     "output_type": "execute_result"
    }
   ],
   "source": [
    "df.shape"
   ]
  },
  {
   "cell_type": "code",
   "execution_count": 5,
   "id": "440fd385",
   "metadata": {},
   "outputs": [
    {
     "data": {
      "text/plain": [
       "show_id            0\n",
       "type               0\n",
       "title              0\n",
       "director        2634\n",
       "cast             825\n",
       "country          831\n",
       "date_added        10\n",
       "release_year       0\n",
       "rating             4\n",
       "duration           3\n",
       "listed_in          0\n",
       "description        0\n",
       "dtype: int64"
      ]
     },
     "execution_count": 5,
     "metadata": {},
     "output_type": "execute_result"
    }
   ],
   "source": [
    "df.isnull().sum()"
   ]
  },
  {
   "cell_type": "code",
   "execution_count": 6,
   "id": "d1ebf70d",
   "metadata": {},
   "outputs": [
    {
     "data": {
      "text/plain": [
       "0       Kirsten Johnson\n",
       "1                   NaN\n",
       "2       Julien Leclercq\n",
       "3                   NaN\n",
       "4                   NaN\n",
       "             ...       \n",
       "8802      David Fincher\n",
       "8803                NaN\n",
       "8804    Ruben Fleischer\n",
       "8805       Peter Hewitt\n",
       "8806        Mozez Singh\n",
       "Name: director, Length: 8807, dtype: object"
      ]
     },
     "execution_count": 6,
     "metadata": {},
     "output_type": "execute_result"
    }
   ],
   "source": [
    "df['director']"
   ]
  },
  {
   "cell_type": "code",
   "execution_count": 7,
   "id": "8e4650c2",
   "metadata": {},
   "outputs": [],
   "source": [
    "df['director'].replace(np.nan, \"No Data\", inplace = True)"
   ]
  },
  {
   "cell_type": "code",
   "execution_count": 8,
   "id": "aa648f63",
   "metadata": {},
   "outputs": [
    {
     "data": {
      "text/plain": [
       "0       Kirsten Johnson\n",
       "1               No Data\n",
       "2       Julien Leclercq\n",
       "3               No Data\n",
       "4               No Data\n",
       "             ...       \n",
       "8802      David Fincher\n",
       "8803            No Data\n",
       "8804    Ruben Fleischer\n",
       "8805       Peter Hewitt\n",
       "8806        Mozez Singh\n",
       "Name: director, Length: 8807, dtype: object"
      ]
     },
     "execution_count": 8,
     "metadata": {},
     "output_type": "execute_result"
    }
   ],
   "source": [
    "df['director']"
   ]
  },
  {
   "cell_type": "code",
   "execution_count": 9,
   "id": "ab77e114",
   "metadata": {},
   "outputs": [],
   "source": [
    "df['cast'].replace(np.nan, \"No Data\", inplace = True)"
   ]
  },
  {
   "cell_type": "code",
   "execution_count": 10,
   "id": "a6b3c597",
   "metadata": {},
   "outputs": [
    {
     "data": {
      "text/plain": [
       "0                                                 No Data\n",
       "1       Ama Qamata, Khosi Ngema, Gail Mabalane, Thaban...\n",
       "2       Sami Bouajila, Tracy Gotoas, Samuel Jouy, Nabi...\n",
       "3                                                 No Data\n",
       "4       Mayur More, Jitendra Kumar, Ranjan Raj, Alam K...\n",
       "                              ...                        \n",
       "8802    Mark Ruffalo, Jake Gyllenhaal, Robert Downey J...\n",
       "8803                                              No Data\n",
       "8804    Jesse Eisenberg, Woody Harrelson, Emma Stone, ...\n",
       "8805    Tim Allen, Courteney Cox, Chevy Chase, Kate Ma...\n",
       "8806    Vicky Kaushal, Sarah-Jane Dias, Raaghav Chanan...\n",
       "Name: cast, Length: 8807, dtype: object"
      ]
     },
     "execution_count": 10,
     "metadata": {},
     "output_type": "execute_result"
    }
   ],
   "source": [
    "df['cast']"
   ]
  },
  {
   "cell_type": "code",
   "execution_count": 11,
   "id": "58c2e121",
   "metadata": {},
   "outputs": [
    {
     "data": {
      "text/plain": [
       "0       United States\n",
       "1        South Africa\n",
       "2                 NaN\n",
       "3                 NaN\n",
       "4               India\n",
       "            ...      \n",
       "8802    United States\n",
       "8803              NaN\n",
       "8804    United States\n",
       "8805    United States\n",
       "8806            India\n",
       "Name: country, Length: 8807, dtype: object"
      ]
     },
     "execution_count": 11,
     "metadata": {},
     "output_type": "execute_result"
    }
   ],
   "source": [
    "df['country']"
   ]
  },
  {
   "cell_type": "code",
   "execution_count": 12,
   "id": "e298f2b0",
   "metadata": {},
   "outputs": [],
   "source": [
    "df['country'].replace(np.nan, \"No Data\", inplace = True)"
   ]
  },
  {
   "cell_type": "code",
   "execution_count": 13,
   "id": "4179de8d",
   "metadata": {},
   "outputs": [
    {
     "data": {
      "text/plain": [
       "0       United States\n",
       "1        South Africa\n",
       "2             No Data\n",
       "3             No Data\n",
       "4               India\n",
       "            ...      \n",
       "8802    United States\n",
       "8803          No Data\n",
       "8804    United States\n",
       "8805    United States\n",
       "8806            India\n",
       "Name: country, Length: 8807, dtype: object"
      ]
     },
     "execution_count": 13,
     "metadata": {},
     "output_type": "execute_result"
    }
   ],
   "source": [
    "df['country']"
   ]
  },
  {
   "cell_type": "code",
   "execution_count": 14,
   "id": "98d7b7e5",
   "metadata": {},
   "outputs": [],
   "source": [
    "df.rename(columns={\"date_added\": \"Available On Netflix\"}, inplace = True)"
   ]
  },
  {
   "cell_type": "code",
   "execution_count": 15,
   "id": "e120b850",
   "metadata": {},
   "outputs": [
    {
     "name": "stdout",
     "output_type": "stream",
     "text": [
      "<class 'pandas.core.frame.DataFrame'>\n",
      "RangeIndex: 8807 entries, 0 to 8806\n",
      "Data columns (total 12 columns):\n",
      " #   Column                Non-Null Count  Dtype \n",
      "---  ------                --------------  ----- \n",
      " 0   show_id               8807 non-null   object\n",
      " 1   type                  8807 non-null   object\n",
      " 2   title                 8807 non-null   object\n",
      " 3   director              8807 non-null   object\n",
      " 4   cast                  8807 non-null   object\n",
      " 5   country               8807 non-null   object\n",
      " 6   Available On Netflix  8797 non-null   object\n",
      " 7   release_year          8807 non-null   int64 \n",
      " 8   rating                8803 non-null   object\n",
      " 9   duration              8804 non-null   object\n",
      " 10  listed_in             8807 non-null   object\n",
      " 11  description           8807 non-null   object\n",
      "dtypes: int64(1), object(11)\n",
      "memory usage: 825.8+ KB\n"
     ]
    }
   ],
   "source": [
    "df.info()"
   ]
  },
  {
   "cell_type": "code",
   "execution_count": 16,
   "id": "14be1012",
   "metadata": {},
   "outputs": [
    {
     "data": {
      "text/plain": [
       "<bound method Series.isnull of 0       September 25, 2021\n",
       "1       September 24, 2021\n",
       "2       September 24, 2021\n",
       "3       September 24, 2021\n",
       "4       September 24, 2021\n",
       "               ...        \n",
       "8802     November 20, 2019\n",
       "8803          July 1, 2019\n",
       "8804      November 1, 2019\n",
       "8805      January 11, 2020\n",
       "8806         March 2, 2019\n",
       "Name: Available On Netflix, Length: 8807, dtype: object>"
      ]
     },
     "execution_count": 16,
     "metadata": {},
     "output_type": "execute_result"
    }
   ],
   "source": [
    "df['Available On Netflix'].isnull"
   ]
  },
  {
   "cell_type": "code",
   "execution_count": 17,
   "id": "e2edeaa0",
   "metadata": {},
   "outputs": [],
   "source": [
    "df[\"Available On Netflix\"] = df[\"Available On Netflix\"].str.strip()\n",
    "\n",
    "df[\"Available On Netflix\"] = pd.to_datetime(df[\"Available On Netflix\"], format='%B %d, %Y', errors='coerce')"
   ]
  },
  {
   "cell_type": "code",
   "execution_count": 18,
   "id": "126d8792",
   "metadata": {},
   "outputs": [
    {
     "data": {
      "text/plain": [
       "0      2021-09-25\n",
       "1      2021-09-24\n",
       "2      2021-09-24\n",
       "3      2021-09-24\n",
       "4      2021-09-24\n",
       "          ...    \n",
       "8802   2019-11-20\n",
       "8803   2019-07-01\n",
       "8804   2019-11-01\n",
       "8805   2020-01-11\n",
       "8806   2019-03-02\n",
       "Name: Available On Netflix, Length: 8807, dtype: datetime64[ns]"
      ]
     },
     "execution_count": 18,
     "metadata": {},
     "output_type": "execute_result"
    }
   ],
   "source": [
    "df['Available On Netflix']"
   ]
  },
  {
   "cell_type": "code",
   "execution_count": 19,
   "id": "a356490f",
   "metadata": {},
   "outputs": [
    {
     "data": {
      "text/plain": [
       "10"
      ]
     },
     "execution_count": 19,
     "metadata": {},
     "output_type": "execute_result"
    }
   ],
   "source": [
    "df['Available On Netflix'].isnull().sum()"
   ]
  },
  {
   "cell_type": "code",
   "execution_count": 20,
   "id": "804feb7c",
   "metadata": {},
   "outputs": [
    {
     "data": {
      "text/plain": [
       "show_id                  0\n",
       "type                     0\n",
       "title                    0\n",
       "director                 0\n",
       "cast                     0\n",
       "country                  0\n",
       "Available On Netflix    10\n",
       "release_year             0\n",
       "rating                   4\n",
       "duration                 3\n",
       "listed_in                0\n",
       "description              0\n",
       "dtype: int64"
      ]
     },
     "execution_count": 20,
     "metadata": {},
     "output_type": "execute_result"
    }
   ],
   "source": [
    "df.isnull().sum()"
   ]
  },
  {
   "cell_type": "code",
   "execution_count": 21,
   "id": "71e43d00",
   "metadata": {},
   "outputs": [
    {
     "name": "stderr",
     "output_type": "stream",
     "text": [
      "C:\\Users\\Akshay\\AppData\\Local\\Temp\\ipykernel_25584\\2174269283.py:1: SettingWithCopyWarning: \n",
      "A value is trying to be set on a copy of a slice from a DataFrame\n",
      "\n",
      "See the caveats in the documentation: https://pandas.pydata.org/pandas-docs/stable/user_guide/indexing.html#returning-a-view-versus-a-copy\n",
      "  df['Available On Netflix'].iloc[6066] = '10-02-2013'\n",
      "C:\\Users\\Akshay\\AppData\\Local\\Temp\\ipykernel_25584\\2174269283.py:3: SettingWithCopyWarning: \n",
      "A value is trying to be set on a copy of a slice from a DataFrame\n",
      "\n",
      "See the caveats in the documentation: https://pandas.pydata.org/pandas-docs/stable/user_guide/indexing.html#returning-a-view-versus-a-copy\n",
      "  df['Available On Netflix'].iloc[6174] = '04-14-2013'\n",
      "C:\\Users\\Akshay\\AppData\\Local\\Temp\\ipykernel_25584\\2174269283.py:5: SettingWithCopyWarning: \n",
      "A value is trying to be set on a copy of a slice from a DataFrame\n",
      "\n",
      "See the caveats in the documentation: https://pandas.pydata.org/pandas-docs/stable/user_guide/indexing.html#returning-a-view-versus-a-copy\n",
      "  df['Available On Netflix'].iloc[6795] = '09-16-1993'\n",
      "C:\\Users\\Akshay\\AppData\\Local\\Temp\\ipykernel_25584\\2174269283.py:7: SettingWithCopyWarning: \n",
      "A value is trying to be set on a copy of a slice from a DataFrame\n",
      "\n",
      "See the caveats in the documentation: https://pandas.pydata.org/pandas-docs/stable/user_guide/indexing.html#returning-a-view-versus-a-copy\n",
      "  df['Available On Netflix'].iloc[6806] = '09-22-1994'\n",
      "C:\\Users\\Akshay\\AppData\\Local\\Temp\\ipykernel_25584\\2174269283.py:9: SettingWithCopyWarning: \n",
      "A value is trying to be set on a copy of a slice from a DataFrame\n",
      "\n",
      "See the caveats in the documentation: https://pandas.pydata.org/pandas-docs/stable/user_guide/indexing.html#returning-a-view-versus-a-copy\n",
      "  df['Available On Netflix'].iloc[6901] = '10-08-2003'\n",
      "C:\\Users\\Akshay\\AppData\\Local\\Temp\\ipykernel_25584\\2174269283.py:11: SettingWithCopyWarning: \n",
      "A value is trying to be set on a copy of a slice from a DataFrame\n",
      "\n",
      "See the caveats in the documentation: https://pandas.pydata.org/pandas-docs/stable/user_guide/indexing.html#returning-a-view-versus-a-copy\n",
      "  df['Available On Netflix'].iloc[7196] = '05-17-2004'\n",
      "C:\\Users\\Akshay\\AppData\\Local\\Temp\\ipykernel_25584\\2174269283.py:13: SettingWithCopyWarning: \n",
      "A value is trying to be set on a copy of a slice from a DataFrame\n",
      "\n",
      "See the caveats in the documentation: https://pandas.pydata.org/pandas-docs/stable/user_guide/indexing.html#returning-a-view-versus-a-copy\n",
      "  df['Available On Netflix'].iloc[7254] = '11-29-2003'\n",
      "C:\\Users\\Akshay\\AppData\\Local\\Temp\\ipykernel_25584\\2174269283.py:15: SettingWithCopyWarning: \n",
      "A value is trying to be set on a copy of a slice from a DataFrame\n",
      "\n",
      "See the caveats in the documentation: https://pandas.pydata.org/pandas-docs/stable/user_guide/indexing.html#returning-a-view-versus-a-copy\n",
      "  df['Available On Netflix'].iloc[7406] = '05-03-2013'\n",
      "C:\\Users\\Akshay\\AppData\\Local\\Temp\\ipykernel_25584\\2174269283.py:17: SettingWithCopyWarning: \n",
      "A value is trying to be set on a copy of a slice from a DataFrame\n",
      "\n",
      "See the caveats in the documentation: https://pandas.pydata.org/pandas-docs/stable/user_guide/indexing.html#returning-a-view-versus-a-copy\n",
      "  df['Available On Netflix'].iloc[7847] = '12-28-2020'\n",
      "C:\\Users\\Akshay\\AppData\\Local\\Temp\\ipykernel_25584\\2174269283.py:19: SettingWithCopyWarning: \n",
      "A value is trying to be set on a copy of a slice from a DataFrame\n",
      "\n",
      "See the caveats in the documentation: https://pandas.pydata.org/pandas-docs/stable/user_guide/indexing.html#returning-a-view-versus-a-copy\n",
      "  df['Available On Netflix'].iloc[8182] = '08-31-2015'\n",
      "C:\\Users\\Akshay\\AppData\\Local\\Temp\\ipykernel_25584\\2174269283.py:21: SettingWithCopyWarning: \n",
      "A value is trying to be set on a copy of a slice from a DataFrame\n",
      "\n",
      "See the caveats in the documentation: https://pandas.pydata.org/pandas-docs/stable/user_guide/indexing.html#returning-a-view-versus-a-copy\n",
      "  df[\"rating\"].iloc[5989] = \"TV-14\"\n",
      "C:\\Users\\Akshay\\AppData\\Local\\Temp\\ipykernel_25584\\2174269283.py:23: SettingWithCopyWarning: \n",
      "A value is trying to be set on a copy of a slice from a DataFrame\n",
      "\n",
      "See the caveats in the documentation: https://pandas.pydata.org/pandas-docs/stable/user_guide/indexing.html#returning-a-view-versus-a-copy\n",
      "  df[\"rating\"].iloc[6827] = \"TV-14\"\n",
      "C:\\Users\\Akshay\\AppData\\Local\\Temp\\ipykernel_25584\\2174269283.py:25: SettingWithCopyWarning: \n",
      "A value is trying to be set on a copy of a slice from a DataFrame\n",
      "\n",
      "See the caveats in the documentation: https://pandas.pydata.org/pandas-docs/stable/user_guide/indexing.html#returning-a-view-versus-a-copy\n",
      "  df[\"rating\"].iloc[7312] = \"TV-MA\"\n",
      "C:\\Users\\Akshay\\AppData\\Local\\Temp\\ipykernel_25584\\2174269283.py:27: SettingWithCopyWarning: \n",
      "A value is trying to be set on a copy of a slice from a DataFrame\n",
      "\n",
      "See the caveats in the documentation: https://pandas.pydata.org/pandas-docs/stable/user_guide/indexing.html#returning-a-view-versus-a-copy\n",
      "  df[\"rating\"].iloc[7537] = \"PG-13\"\n",
      "C:\\Users\\Akshay\\AppData\\Local\\Temp\\ipykernel_25584\\2174269283.py:29: SettingWithCopyWarning: \n",
      "A value is trying to be set on a copy of a slice from a DataFrame\n",
      "\n",
      "See the caveats in the documentation: https://pandas.pydata.org/pandas-docs/stable/user_guide/indexing.html#returning-a-view-versus-a-copy\n",
      "  df[\"duration\"].iloc[5541] = \"74 min\"\n",
      "C:\\Users\\Akshay\\AppData\\Local\\Temp\\ipykernel_25584\\2174269283.py:31: SettingWithCopyWarning: \n",
      "A value is trying to be set on a copy of a slice from a DataFrame\n",
      "\n",
      "See the caveats in the documentation: https://pandas.pydata.org/pandas-docs/stable/user_guide/indexing.html#returning-a-view-versus-a-copy\n",
      "  df[\"duration\"].iloc[5794] = \"84 min\"\n",
      "C:\\Users\\Akshay\\AppData\\Local\\Temp\\ipykernel_25584\\2174269283.py:33: SettingWithCopyWarning: \n",
      "A value is trying to be set on a copy of a slice from a DataFrame\n",
      "\n",
      "See the caveats in the documentation: https://pandas.pydata.org/pandas-docs/stable/user_guide/indexing.html#returning-a-view-versus-a-copy\n",
      "  df[\"duration\"].iloc[5813] = \"66 min\"\n"
     ]
    }
   ],
   "source": [
    "df['Available On Netflix'].iloc[6066] = '10-02-2013'\n",
    "\n",
    "df['Available On Netflix'].iloc[6174] = '04-14-2013'\n",
    "\n",
    "df['Available On Netflix'].iloc[6795] = '09-16-1993'\n",
    "\n",
    "df['Available On Netflix'].iloc[6806] = '09-22-1994'\n",
    "\n",
    "df['Available On Netflix'].iloc[6901] = '10-08-2003'\n",
    "\n",
    "df['Available On Netflix'].iloc[7196] = '05-17-2004'\n",
    "\n",
    "df['Available On Netflix'].iloc[7254] = '11-29-2003'\n",
    "\n",
    "df['Available On Netflix'].iloc[7406] = '05-03-2013'\n",
    "\n",
    "df['Available On Netflix'].iloc[7847] = '12-28-2020'\n",
    "\n",
    "df['Available On Netflix'].iloc[8182] = '08-31-2015'\n",
    "\n",
    "df[\"rating\"].iloc[5989] = \"TV-14\"\n",
    "\n",
    "df[\"rating\"].iloc[6827] = \"TV-14\"\n",
    "\n",
    "df[\"rating\"].iloc[7312] = \"TV-MA\" \n",
    "\n",
    "df[\"rating\"].iloc[7537] = \"PG-13\"\n",
    "\n",
    "df[\"duration\"].iloc[5541] = \"74 min\"\n",
    "\n",
    "df[\"duration\"].iloc[5794] = \"84 min\"\n",
    "\n",
    "df[\"duration\"].iloc[5813] = \"66 min\""
   ]
  },
  {
   "cell_type": "code",
   "execution_count": 22,
   "id": "8267f49f",
   "metadata": {},
   "outputs": [
    {
     "data": {
      "text/plain": [
       "show_id                 0\n",
       "type                    0\n",
       "title                   0\n",
       "director                0\n",
       "cast                    0\n",
       "country                 0\n",
       "Available On Netflix    0\n",
       "release_year            0\n",
       "rating                  0\n",
       "duration                0\n",
       "listed_in               0\n",
       "description             0\n",
       "dtype: int64"
      ]
     },
     "execution_count": 22,
     "metadata": {},
     "output_type": "execute_result"
    }
   ],
   "source": [
    "df.isnull().sum()"
   ]
  },
  {
   "cell_type": "code",
   "execution_count": 23,
   "id": "85dc3d2d",
   "metadata": {},
   "outputs": [],
   "source": [
    "df = df.assign(country=df.country.str.split(','))"
   ]
  },
  {
   "cell_type": "code",
   "execution_count": 24,
   "id": "540232ee",
   "metadata": {},
   "outputs": [],
   "source": [
    "df= df.explode('country').reset_index(drop=False)"
   ]
  },
  {
   "cell_type": "code",
   "execution_count": 25,
   "id": "3d75bd67",
   "metadata": {},
   "outputs": [],
   "source": [
    "df = df.assign(listed_in=df.listed_in.str.split(','))"
   ]
  },
  {
   "cell_type": "code",
   "execution_count": 26,
   "id": "05382043",
   "metadata": {},
   "outputs": [],
   "source": [
    "df= df.explode('listed_in').reset_index(drop=False)"
   ]
  },
  {
   "cell_type": "code",
   "execution_count": 27,
   "id": "f5748d7b",
   "metadata": {},
   "outputs": [
    {
     "data": {
      "text/html": [
       "<div>\n",
       "<style scoped>\n",
       "    .dataframe tbody tr th:only-of-type {\n",
       "        vertical-align: middle;\n",
       "    }\n",
       "\n",
       "    .dataframe tbody tr th {\n",
       "        vertical-align: top;\n",
       "    }\n",
       "\n",
       "    .dataframe thead th {\n",
       "        text-align: right;\n",
       "    }\n",
       "</style>\n",
       "<table border=\"1\" class=\"dataframe\">\n",
       "  <thead>\n",
       "    <tr style=\"text-align: right;\">\n",
       "      <th></th>\n",
       "      <th>level_0</th>\n",
       "      <th>index</th>\n",
       "      <th>show_id</th>\n",
       "      <th>type</th>\n",
       "      <th>title</th>\n",
       "      <th>director</th>\n",
       "      <th>cast</th>\n",
       "      <th>country</th>\n",
       "      <th>Available On Netflix</th>\n",
       "      <th>release_year</th>\n",
       "      <th>rating</th>\n",
       "      <th>duration</th>\n",
       "      <th>listed_in</th>\n",
       "      <th>description</th>\n",
       "    </tr>\n",
       "  </thead>\n",
       "  <tbody>\n",
       "    <tr>\n",
       "      <th>0</th>\n",
       "      <td>0</td>\n",
       "      <td>0</td>\n",
       "      <td>s1</td>\n",
       "      <td>Movie</td>\n",
       "      <td>Dick Johnson Is Dead</td>\n",
       "      <td>Kirsten Johnson</td>\n",
       "      <td>No Data</td>\n",
       "      <td>United States</td>\n",
       "      <td>2021-09-25</td>\n",
       "      <td>2020</td>\n",
       "      <td>PG-13</td>\n",
       "      <td>90 min</td>\n",
       "      <td>Documentaries</td>\n",
       "      <td>As her father nears the end of his life, filmm...</td>\n",
       "    </tr>\n",
       "    <tr>\n",
       "      <th>1</th>\n",
       "      <td>1</td>\n",
       "      <td>1</td>\n",
       "      <td>s2</td>\n",
       "      <td>TV Show</td>\n",
       "      <td>Blood &amp; Water</td>\n",
       "      <td>No Data</td>\n",
       "      <td>Ama Qamata, Khosi Ngema, Gail Mabalane, Thaban...</td>\n",
       "      <td>South Africa</td>\n",
       "      <td>2021-09-24</td>\n",
       "      <td>2021</td>\n",
       "      <td>TV-MA</td>\n",
       "      <td>2 Seasons</td>\n",
       "      <td>International TV Shows</td>\n",
       "      <td>After crossing paths at a party, a Cape Town t...</td>\n",
       "    </tr>\n",
       "    <tr>\n",
       "      <th>2</th>\n",
       "      <td>1</td>\n",
       "      <td>1</td>\n",
       "      <td>s2</td>\n",
       "      <td>TV Show</td>\n",
       "      <td>Blood &amp; Water</td>\n",
       "      <td>No Data</td>\n",
       "      <td>Ama Qamata, Khosi Ngema, Gail Mabalane, Thaban...</td>\n",
       "      <td>South Africa</td>\n",
       "      <td>2021-09-24</td>\n",
       "      <td>2021</td>\n",
       "      <td>TV-MA</td>\n",
       "      <td>2 Seasons</td>\n",
       "      <td>TV Dramas</td>\n",
       "      <td>After crossing paths at a party, a Cape Town t...</td>\n",
       "    </tr>\n",
       "    <tr>\n",
       "      <th>3</th>\n",
       "      <td>1</td>\n",
       "      <td>1</td>\n",
       "      <td>s2</td>\n",
       "      <td>TV Show</td>\n",
       "      <td>Blood &amp; Water</td>\n",
       "      <td>No Data</td>\n",
       "      <td>Ama Qamata, Khosi Ngema, Gail Mabalane, Thaban...</td>\n",
       "      <td>South Africa</td>\n",
       "      <td>2021-09-24</td>\n",
       "      <td>2021</td>\n",
       "      <td>TV-MA</td>\n",
       "      <td>2 Seasons</td>\n",
       "      <td>TV Mysteries</td>\n",
       "      <td>After crossing paths at a party, a Cape Town t...</td>\n",
       "    </tr>\n",
       "    <tr>\n",
       "      <th>4</th>\n",
       "      <td>2</td>\n",
       "      <td>2</td>\n",
       "      <td>s3</td>\n",
       "      <td>TV Show</td>\n",
       "      <td>Ganglands</td>\n",
       "      <td>Julien Leclercq</td>\n",
       "      <td>Sami Bouajila, Tracy Gotoas, Samuel Jouy, Nabi...</td>\n",
       "      <td>No Data</td>\n",
       "      <td>2021-09-24</td>\n",
       "      <td>2021</td>\n",
       "      <td>TV-MA</td>\n",
       "      <td>1 Season</td>\n",
       "      <td>Crime TV Shows</td>\n",
       "      <td>To protect his family from a powerful drug lor...</td>\n",
       "    </tr>\n",
       "    <tr>\n",
       "      <th>5</th>\n",
       "      <td>2</td>\n",
       "      <td>2</td>\n",
       "      <td>s3</td>\n",
       "      <td>TV Show</td>\n",
       "      <td>Ganglands</td>\n",
       "      <td>Julien Leclercq</td>\n",
       "      <td>Sami Bouajila, Tracy Gotoas, Samuel Jouy, Nabi...</td>\n",
       "      <td>No Data</td>\n",
       "      <td>2021-09-24</td>\n",
       "      <td>2021</td>\n",
       "      <td>TV-MA</td>\n",
       "      <td>1 Season</td>\n",
       "      <td>International TV Shows</td>\n",
       "      <td>To protect his family from a powerful drug lor...</td>\n",
       "    </tr>\n",
       "    <tr>\n",
       "      <th>6</th>\n",
       "      <td>2</td>\n",
       "      <td>2</td>\n",
       "      <td>s3</td>\n",
       "      <td>TV Show</td>\n",
       "      <td>Ganglands</td>\n",
       "      <td>Julien Leclercq</td>\n",
       "      <td>Sami Bouajila, Tracy Gotoas, Samuel Jouy, Nabi...</td>\n",
       "      <td>No Data</td>\n",
       "      <td>2021-09-24</td>\n",
       "      <td>2021</td>\n",
       "      <td>TV-MA</td>\n",
       "      <td>1 Season</td>\n",
       "      <td>TV Action &amp; Adventure</td>\n",
       "      <td>To protect his family from a powerful drug lor...</td>\n",
       "    </tr>\n",
       "    <tr>\n",
       "      <th>7</th>\n",
       "      <td>3</td>\n",
       "      <td>3</td>\n",
       "      <td>s4</td>\n",
       "      <td>TV Show</td>\n",
       "      <td>Jailbirds New Orleans</td>\n",
       "      <td>No Data</td>\n",
       "      <td>No Data</td>\n",
       "      <td>No Data</td>\n",
       "      <td>2021-09-24</td>\n",
       "      <td>2021</td>\n",
       "      <td>TV-MA</td>\n",
       "      <td>1 Season</td>\n",
       "      <td>Docuseries</td>\n",
       "      <td>Feuds, flirtations and toilet talk go down amo...</td>\n",
       "    </tr>\n",
       "    <tr>\n",
       "      <th>8</th>\n",
       "      <td>3</td>\n",
       "      <td>3</td>\n",
       "      <td>s4</td>\n",
       "      <td>TV Show</td>\n",
       "      <td>Jailbirds New Orleans</td>\n",
       "      <td>No Data</td>\n",
       "      <td>No Data</td>\n",
       "      <td>No Data</td>\n",
       "      <td>2021-09-24</td>\n",
       "      <td>2021</td>\n",
       "      <td>TV-MA</td>\n",
       "      <td>1 Season</td>\n",
       "      <td>Reality TV</td>\n",
       "      <td>Feuds, flirtations and toilet talk go down amo...</td>\n",
       "    </tr>\n",
       "    <tr>\n",
       "      <th>9</th>\n",
       "      <td>4</td>\n",
       "      <td>4</td>\n",
       "      <td>s5</td>\n",
       "      <td>TV Show</td>\n",
       "      <td>Kota Factory</td>\n",
       "      <td>No Data</td>\n",
       "      <td>Mayur More, Jitendra Kumar, Ranjan Raj, Alam K...</td>\n",
       "      <td>India</td>\n",
       "      <td>2021-09-24</td>\n",
       "      <td>2021</td>\n",
       "      <td>TV-MA</td>\n",
       "      <td>2 Seasons</td>\n",
       "      <td>International TV Shows</td>\n",
       "      <td>In a city of coaching centers known to train I...</td>\n",
       "    </tr>\n",
       "  </tbody>\n",
       "</table>\n",
       "</div>"
      ],
      "text/plain": [
       "   level_0  index show_id     type                  title         director  \\\n",
       "0        0      0      s1    Movie   Dick Johnson Is Dead  Kirsten Johnson   \n",
       "1        1      1      s2  TV Show          Blood & Water          No Data   \n",
       "2        1      1      s2  TV Show          Blood & Water          No Data   \n",
       "3        1      1      s2  TV Show          Blood & Water          No Data   \n",
       "4        2      2      s3  TV Show              Ganglands  Julien Leclercq   \n",
       "5        2      2      s3  TV Show              Ganglands  Julien Leclercq   \n",
       "6        2      2      s3  TV Show              Ganglands  Julien Leclercq   \n",
       "7        3      3      s4  TV Show  Jailbirds New Orleans          No Data   \n",
       "8        3      3      s4  TV Show  Jailbirds New Orleans          No Data   \n",
       "9        4      4      s5  TV Show           Kota Factory          No Data   \n",
       "\n",
       "                                                cast        country  \\\n",
       "0                                            No Data  United States   \n",
       "1  Ama Qamata, Khosi Ngema, Gail Mabalane, Thaban...   South Africa   \n",
       "2  Ama Qamata, Khosi Ngema, Gail Mabalane, Thaban...   South Africa   \n",
       "3  Ama Qamata, Khosi Ngema, Gail Mabalane, Thaban...   South Africa   \n",
       "4  Sami Bouajila, Tracy Gotoas, Samuel Jouy, Nabi...        No Data   \n",
       "5  Sami Bouajila, Tracy Gotoas, Samuel Jouy, Nabi...        No Data   \n",
       "6  Sami Bouajila, Tracy Gotoas, Samuel Jouy, Nabi...        No Data   \n",
       "7                                            No Data        No Data   \n",
       "8                                            No Data        No Data   \n",
       "9  Mayur More, Jitendra Kumar, Ranjan Raj, Alam K...          India   \n",
       "\n",
       "  Available On Netflix  release_year rating   duration  \\\n",
       "0           2021-09-25          2020  PG-13     90 min   \n",
       "1           2021-09-24          2021  TV-MA  2 Seasons   \n",
       "2           2021-09-24          2021  TV-MA  2 Seasons   \n",
       "3           2021-09-24          2021  TV-MA  2 Seasons   \n",
       "4           2021-09-24          2021  TV-MA   1 Season   \n",
       "5           2021-09-24          2021  TV-MA   1 Season   \n",
       "6           2021-09-24          2021  TV-MA   1 Season   \n",
       "7           2021-09-24          2021  TV-MA   1 Season   \n",
       "8           2021-09-24          2021  TV-MA   1 Season   \n",
       "9           2021-09-24          2021  TV-MA  2 Seasons   \n",
       "\n",
       "                 listed_in                                        description  \n",
       "0            Documentaries  As her father nears the end of his life, filmm...  \n",
       "1   International TV Shows  After crossing paths at a party, a Cape Town t...  \n",
       "2                TV Dramas  After crossing paths at a party, a Cape Town t...  \n",
       "3             TV Mysteries  After crossing paths at a party, a Cape Town t...  \n",
       "4           Crime TV Shows  To protect his family from a powerful drug lor...  \n",
       "5   International TV Shows  To protect his family from a powerful drug lor...  \n",
       "6    TV Action & Adventure  To protect his family from a powerful drug lor...  \n",
       "7               Docuseries  Feuds, flirtations and toilet talk go down amo...  \n",
       "8               Reality TV  Feuds, flirtations and toilet talk go down amo...  \n",
       "9   International TV Shows  In a city of coaching centers known to train I...  "
      ]
     },
     "execution_count": 27,
     "metadata": {},
     "output_type": "execute_result"
    }
   ],
   "source": [
    "df.head(10)"
   ]
  },
  {
   "cell_type": "code",
   "execution_count": 28,
   "id": "b5d311e4",
   "metadata": {},
   "outputs": [],
   "source": [
    "df.to_csv(\"Netflix.csv.csv\")"
   ]
  }
 ],
 "metadata": {
  "kernelspec": {
   "display_name": "Python 3 (ipykernel)",
   "language": "python",
   "name": "python3"
  },
  "language_info": {
   "codemirror_mode": {
    "name": "ipython",
    "version": 3
   },
   "file_extension": ".py",
   "mimetype": "text/x-python",
   "name": "python",
   "nbconvert_exporter": "python",
   "pygments_lexer": "ipython3",
   "version": "3.11.4"
  }
 },
 "nbformat": 4,
 "nbformat_minor": 5
}
